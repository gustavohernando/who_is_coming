{
 "cells": [
  {
   "cell_type": "code",
   "execution_count": 1,
   "id": "0c6b2b78-84e1-4698-bce3-5c9c981f50cb",
   "metadata": {},
   "outputs": [],
   "source": [
    "import pandas as pd\n",
    "import numpy as np\n",
    "import seaborn as sns\n",
    "\n",
    "from sklearn.model_selection import train_test_split\n",
    "from sklearn.metrics import precision_score\n",
    "from sklearn.metrics import accuracy_score\n",
    "from sklearn.ensemble import GradientBoostingClassifier\n",
    "\n",
    "from sklearn.metrics import recall_score\n",
    "from imblearn.under_sampling import RandomUnderSampler"
   ]
  },
  {
   "cell_type": "code",
   "execution_count": 2,
   "id": "ba0de5c7-2bf7-479e-aa58-8ae0f9417038",
   "metadata": {},
   "outputs": [
    {
     "data": {
      "text/html": [
       "<div>\n",
       "<style scoped>\n",
       "    .dataframe tbody tr th:only-of-type {\n",
       "        vertical-align: middle;\n",
       "    }\n",
       "\n",
       "    .dataframe tbody tr th {\n",
       "        vertical-align: top;\n",
       "    }\n",
       "\n",
       "    .dataframe thead th {\n",
       "        text-align: right;\n",
       "    }\n",
       "</style>\n",
       "<table border=\"1\" class=\"dataframe\">\n",
       "  <thead>\n",
       "    <tr style=\"text-align: right;\">\n",
       "      <th></th>\n",
       "      <th>PatientId</th>\n",
       "      <th>AppointmentID</th>\n",
       "      <th>Gender</th>\n",
       "      <th>ScheduledDay</th>\n",
       "      <th>AppointmentDay</th>\n",
       "      <th>Age</th>\n",
       "      <th>Neighbourhood</th>\n",
       "      <th>Scholarship</th>\n",
       "      <th>Hipertension</th>\n",
       "      <th>Diabetes</th>\n",
       "      <th>...</th>\n",
       "      <th>Appointment_DayOfMonth</th>\n",
       "      <th>Appointment_WeekOfYear</th>\n",
       "      <th>ScheduledDay_year</th>\n",
       "      <th>ScheduledDay_month</th>\n",
       "      <th>ScheduledDay_DayOfWeek</th>\n",
       "      <th>ScheduledDay_DayOfMonth</th>\n",
       "      <th>ScheduledDay_WeekOfYear</th>\n",
       "      <th>ScheduledDay_Hour</th>\n",
       "      <th>ScheduledDay_Minute</th>\n",
       "      <th>Gender_index</th>\n",
       "    </tr>\n",
       "  </thead>\n",
       "  <tbody>\n",
       "    <tr>\n",
       "      <th>0</th>\n",
       "      <td>3.476624e+10</td>\n",
       "      <td>5636907</td>\n",
       "      <td>M</td>\n",
       "      <td>2016-04-28T16:32:12.000Z</td>\n",
       "      <td>2016-05-05T00:00:00.000Z</td>\n",
       "      <td>5</td>\n",
       "      <td>PRAIA DO SUÁ</td>\n",
       "      <td>0</td>\n",
       "      <td>0</td>\n",
       "      <td>0</td>\n",
       "      <td>...</td>\n",
       "      <td>5</td>\n",
       "      <td>18</td>\n",
       "      <td>2016</td>\n",
       "      <td>4</td>\n",
       "      <td>5</td>\n",
       "      <td>28</td>\n",
       "      <td>17</td>\n",
       "      <td>16</td>\n",
       "      <td>32</td>\n",
       "      <td>1.0</td>\n",
       "    </tr>\n",
       "    <tr>\n",
       "      <th>1</th>\n",
       "      <td>3.476624e+10</td>\n",
       "      <td>5666329</td>\n",
       "      <td>M</td>\n",
       "      <td>2016-05-05T16:29:13.000Z</td>\n",
       "      <td>2016-05-12T00:00:00.000Z</td>\n",
       "      <td>5</td>\n",
       "      <td>PRAIA DO SUÁ</td>\n",
       "      <td>0</td>\n",
       "      <td>0</td>\n",
       "      <td>0</td>\n",
       "      <td>...</td>\n",
       "      <td>12</td>\n",
       "      <td>19</td>\n",
       "      <td>2016</td>\n",
       "      <td>5</td>\n",
       "      <td>5</td>\n",
       "      <td>5</td>\n",
       "      <td>18</td>\n",
       "      <td>16</td>\n",
       "      <td>29</td>\n",
       "      <td>1.0</td>\n",
       "    </tr>\n",
       "    <tr>\n",
       "      <th>2</th>\n",
       "      <td>3.476624e+10</td>\n",
       "      <td>5692753</td>\n",
       "      <td>M</td>\n",
       "      <td>2016-05-12T16:10:37.000Z</td>\n",
       "      <td>2016-05-19T00:00:00.000Z</td>\n",
       "      <td>5</td>\n",
       "      <td>PRAIA DO SUÁ</td>\n",
       "      <td>0</td>\n",
       "      <td>0</td>\n",
       "      <td>0</td>\n",
       "      <td>...</td>\n",
       "      <td>19</td>\n",
       "      <td>20</td>\n",
       "      <td>2016</td>\n",
       "      <td>5</td>\n",
       "      <td>5</td>\n",
       "      <td>12</td>\n",
       "      <td>19</td>\n",
       "      <td>16</td>\n",
       "      <td>10</td>\n",
       "      <td>1.0</td>\n",
       "    </tr>\n",
       "    <tr>\n",
       "      <th>3</th>\n",
       "      <td>7.523668e+14</td>\n",
       "      <td>5637091</td>\n",
       "      <td>F</td>\n",
       "      <td>2016-04-28T17:11:02.000Z</td>\n",
       "      <td>2016-05-05T00:00:00.000Z</td>\n",
       "      <td>69</td>\n",
       "      <td>PRAIA DO SUÁ</td>\n",
       "      <td>0</td>\n",
       "      <td>0</td>\n",
       "      <td>0</td>\n",
       "      <td>...</td>\n",
       "      <td>5</td>\n",
       "      <td>18</td>\n",
       "      <td>2016</td>\n",
       "      <td>4</td>\n",
       "      <td>5</td>\n",
       "      <td>28</td>\n",
       "      <td>17</td>\n",
       "      <td>17</td>\n",
       "      <td>11</td>\n",
       "      <td>0.0</td>\n",
       "    </tr>\n",
       "    <tr>\n",
       "      <th>4</th>\n",
       "      <td>7.132994e+14</td>\n",
       "      <td>5636802</td>\n",
       "      <td>F</td>\n",
       "      <td>2016-04-28T16:07:12.000Z</td>\n",
       "      <td>2016-05-05T00:00:00.000Z</td>\n",
       "      <td>9</td>\n",
       "      <td>ENSEADA DO SUÁ</td>\n",
       "      <td>0</td>\n",
       "      <td>0</td>\n",
       "      <td>0</td>\n",
       "      <td>...</td>\n",
       "      <td>5</td>\n",
       "      <td>18</td>\n",
       "      <td>2016</td>\n",
       "      <td>4</td>\n",
       "      <td>5</td>\n",
       "      <td>28</td>\n",
       "      <td>17</td>\n",
       "      <td>16</td>\n",
       "      <td>7</td>\n",
       "      <td>0.0</td>\n",
       "    </tr>\n",
       "  </tbody>\n",
       "</table>\n",
       "<p>5 rows × 29 columns</p>\n",
       "</div>"
      ],
      "text/plain": [
       "      PatientId  AppointmentID Gender              ScheduledDay  \\\n",
       "0  3.476624e+10        5636907      M  2016-04-28T16:32:12.000Z   \n",
       "1  3.476624e+10        5666329      M  2016-05-05T16:29:13.000Z   \n",
       "2  3.476624e+10        5692753      M  2016-05-12T16:10:37.000Z   \n",
       "3  7.523668e+14        5637091      F  2016-04-28T17:11:02.000Z   \n",
       "4  7.132994e+14        5636802      F  2016-04-28T16:07:12.000Z   \n",
       "\n",
       "             AppointmentDay  Age   Neighbourhood  Scholarship  Hipertension  \\\n",
       "0  2016-05-05T00:00:00.000Z    5    PRAIA DO SUÁ            0             0   \n",
       "1  2016-05-12T00:00:00.000Z    5    PRAIA DO SUÁ            0             0   \n",
       "2  2016-05-19T00:00:00.000Z    5    PRAIA DO SUÁ            0             0   \n",
       "3  2016-05-05T00:00:00.000Z   69    PRAIA DO SUÁ            0             0   \n",
       "4  2016-05-05T00:00:00.000Z    9  ENSEADA DO SUÁ            0             0   \n",
       "\n",
       "   Diabetes  ...  Appointment_DayOfMonth  Appointment_WeekOfYear  \\\n",
       "0         0  ...                       5                      18   \n",
       "1         0  ...                      12                      19   \n",
       "2         0  ...                      19                      20   \n",
       "3         0  ...                       5                      18   \n",
       "4         0  ...                       5                      18   \n",
       "\n",
       "   ScheduledDay_year ScheduledDay_month  ScheduledDay_DayOfWeek  \\\n",
       "0               2016                  4                       5   \n",
       "1               2016                  5                       5   \n",
       "2               2016                  5                       5   \n",
       "3               2016                  4                       5   \n",
       "4               2016                  4                       5   \n",
       "\n",
       "   ScheduledDay_DayOfMonth  ScheduledDay_WeekOfYear  ScheduledDay_Hour  \\\n",
       "0                       28                       17                 16   \n",
       "1                        5                       18                 16   \n",
       "2                       12                       19                 16   \n",
       "3                       28                       17                 17   \n",
       "4                       28                       17                 16   \n",
       "\n",
       "   ScheduledDay_Minute  Gender_index  \n",
       "0                   32           1.0  \n",
       "1                   29           1.0  \n",
       "2                   10           1.0  \n",
       "3                   11           0.0  \n",
       "4                    7           0.0  \n",
       "\n",
       "[5 rows x 29 columns]"
      ]
     },
     "execution_count": 2,
     "metadata": {},
     "output_type": "execute_result"
    }
   ],
   "source": [
    "data = pd.read_csv(r\"export.csv\")\n",
    "data.head()"
   ]
  },
  {
   "cell_type": "code",
   "execution_count": 3,
   "id": "332eb5a8-2935-49a5-b9ee-b8d9df8c7e53",
   "metadata": {},
   "outputs": [],
   "source": [
    "data = data.drop(columns=['PatientId', 'AppointmentID', 'ScheduledDay', 'AppointmentDay', 'Neighbourhood', 'No-show','Gender', 'Diabetes'])"
   ]
  },
  {
   "cell_type": "markdown",
   "id": "38fa1261-ee75-4c3b-b83c-ce0d7b1a1647",
   "metadata": {},
   "source": [
    "Modeling"
   ]
  },
  {
   "cell_type": "code",
   "execution_count": 4,
   "id": "d32ac894-cf90-4edd-9bc7-83881c2c6b2c",
   "metadata": {},
   "outputs": [],
   "source": [
    "X_train, X_test, y_train, y_test = train_test_split(data.drop('label', axis=1),\n",
    "                                                    data['label'],\n",
    "                                                    test_size=0.2,\n",
    "                                                    random_state=42)"
   ]
  },
  {
   "cell_type": "code",
   "execution_count": 5,
   "id": "aa5f466a-26cd-4476-8651-2abf60c17926",
   "metadata": {},
   "outputs": [],
   "source": [
    "ros = RandomUnderSampler(random_state = 42)\n",
    "X_ros, y_ros = ros.fit_resample(X_train, y_train)"
   ]
  },
  {
   "cell_type": "code",
   "execution_count": 6,
   "id": "f0c522f9-ec31-4373-8b11-a2d8319302c1",
   "metadata": {},
   "outputs": [],
   "source": [
    "gbct = GradientBoostingClassifier(max_depth=4,\n",
    "                                  min_samples_leaf=4,\n",
    "                                 n_estimators=100,\n",
    "                                  learning_rate =0.5)\n",
    "\n",
    "gbct.fit(X_ros, y_ros)\n",
    "\n",
    "\n",
    "y_pred_gbct = gbct.predict(X_test)"
   ]
  },
  {
   "cell_type": "code",
   "execution_count": 7,
   "id": "286442f3-ba11-47b6-a4ca-a2dd8e0239ec",
   "metadata": {},
   "outputs": [
    {
     "name": "stdout",
     "output_type": "stream",
     "text": [
      "recall score: 0.7824820788530465\n",
      "accuracy score: 0.6157882831938476\n"
     ]
    }
   ],
   "source": [
    "#y_pred = gbct.predict(X_test)\n",
    "print(\"recall score:\", recall_score(y_test, y_pred_gbct))\n",
    "print(\"accuracy score:\", accuracy_score(y_test, y_pred_gbct))"
   ]
  },
  {
   "cell_type": "code",
   "execution_count": 9,
   "id": "f9028b24-d503-4fde-9646-174de2422aad",
   "metadata": {},
   "outputs": [],
   "source": [
    "from sklearn.metrics import confusion_matrix\n",
    "c_matrix = confusion_matrix(y_test, y_pred_gbct)"
   ]
  },
  {
   "cell_type": "code",
   "execution_count": 10,
   "id": "edf931e1-0b77-4170-9895-70c5735167b8",
   "metadata": {},
   "outputs": [
    {
     "data": {
      "image/png": "[encoded data removed]",
      "text/plain": [
       "<Figure size 432x288 with 2 Axes>"
      ]
     },
     "metadata": {
      "needs_background": "light"
     },
     "output_type": "display_data"
    }
   ],
   "source": [
    "sns.heatmap(c_matrix/np.sum(c_matrix), annot=True, \n",
    "            fmt='.2%', cmap='Blues');"
   ]
  },
  {
   "cell_type": "code",
   "execution_count": null,
   "id": "f426aac1-565c-4b81-ac77-e081ae58ccbc",
   "metadata": {},
   "outputs": [],
   "source": [
    "import pickle\n",
    "\n",
    "with open('gradient_boosting.model', \"wb\") as archivo_salida:\n",
    "    pickle.dump(gbct, archivo_salida)"
   ]
  }
 ],
 "metadata": {
  "kernelspec": {
   "display_name": "Python 3",
   "language": "python",
   "name": "python3"
  },
  "language_info": {
   "codemirror_mode": {
    "name": "ipython",
    "version": 3
   },
   "file_extension": ".py",
   "mimetype": "text/x-python",
   "name": "python",
   "nbconvert_exporter": "python",
   "pygments_lexer": "ipython3",
   "version": "3.8.8"
  }
 },
 "nbformat": 4,
 "nbformat_minor": 5
}
