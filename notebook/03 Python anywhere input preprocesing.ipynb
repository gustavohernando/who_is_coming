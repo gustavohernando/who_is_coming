{
 "cells": [
  {
   "cell_type": "code",
   "execution_count": 1,
   "id": "5294bdf1-a5e1-4744-8a64-1007c8be807b",
   "metadata": {},
   "outputs": [],
   "source": [
    "from datetime import date\n",
    "from datetime import datetime"
   ]
  },
  {
   "cell_type": "code",
   "execution_count": 2,
   "id": "17c8b69c-36e1-4603-affb-28554ab2b197",
   "metadata": {},
   "outputs": [],
   "source": [
    "def transformacion(fecha_en_crudo):#dd/mm/aaaa --:--\n",
    "    dia=fecha_en_crudo[:2]\n",
    "    mes=fecha_en_crudo[3:5]\n",
    "    año=fecha_en_crudo[6:10]\n",
    "    hora=fecha_en_crudo[11:13]\n",
    "    minuto=fecha_en_crudo[14:16]\n",
    "    return int(dia),int(mes),int(año),int(hora),int(minuto)"
   ]
  },
  {
   "cell_type": "code",
   "execution_count": 23,
   "id": "d58fab75-a3e0-482b-a12f-9be7c6f87b8a",
   "metadata": {},
   "outputs": [],
   "source": [
    "def fecha(año,mes,dia,hora,minuto):#HAY QUE CAMBIAR PARA QUE SE META DIRECTAMENTE\n",
    "    new_date = datetime(año, mes,dia,hora,minuto)\n",
    "    print(\"Desglose de la fecha\", new_date,\":\")\n",
    "    tupla_mensajes = (\"Año\")\n",
    "    tupla_valores = datetime.isocalendar(new_date)\n",
    "    print(tupla_valores)\n",
    "    tupla_diassem = (\"Domingo\",\"Lunes\", \"Martes\", \"Miércoles\", \"Jueves\",\"Viernes\", \"Sábado\")\n",
    "    print(\"Día de semana-->\", tupla_diassem[tupla_valores[2]])\n",
    "    return año,mes,tupla_diassem.index(tupla_diassem[tupla_valores[2]])+1,hora,minuto"
   ]
  },
  {
   "cell_type": "code",
   "execution_count": 36,
   "id": "3aeb93df-98ad-4d32-a0bb-d20a31de2ffd",
   "metadata": {
    "scrolled": true
   },
   "outputs": [
    {
     "name": "stdout",
     "output_type": "stream",
     "text": [
      "Desglose de la fecha 2021-10-18 12:51:00 :\n",
      "(2021, 42, 1)\n"
     ]
    },
    {
     "data": {
      "text/plain": [
       "(2021, 10, 2, 12, 51)"
      ]
     },
     "execution_count": 36,
     "metadata": {},
     "output_type": "execute_result"
    }
   ],
   "source": [
    "dia,mes,año,hora,minuto=transformacion('18/10/2021 12:51')\n",
    "fecha(año,mes,dia,hora,minuto)"
   ]
  },
  {
   "cell_type": "code",
   "execution_count": 30,
   "id": "982a985d",
   "metadata": {},
   "outputs": [
    {
     "ename": "NameError",
     "evalue": "name 'tupla_diassem' is not defined",
     "output_type": "error",
     "traceback": [
      "\u001b[1;31m---------------------------------------------------------------------------\u001b[0m",
      "\u001b[1;31mNameError\u001b[0m                                 Traceback (most recent call last)",
      "\u001b[1;32m<ipython-input-30-acaa44ab214c>\u001b[0m in \u001b[0;36m<module>\u001b[1;34m\u001b[0m\n\u001b[1;32m----> 1\u001b[1;33m \u001b[0mtupla_diassem\u001b[0m\u001b[1;33m\u001b[0m\u001b[1;33m\u001b[0m\u001b[0m\n\u001b[0m",
      "\u001b[1;31mNameError\u001b[0m: name 'tupla_diassem' is not defined"
     ]
    }
   ],
   "source": [
    "tupla_diassem"
   ]
  },
  {
   "cell_type": "code",
   "execution_count": 37,
   "id": "f95d70fc-937b-4182-bf43-29db3c87299b",
   "metadata": {},
   "outputs": [],
   "source": [
    "def fecha_2(año,mes,dia,hora,minuto):#HAY QUE CAMBIAR PARA QUE SE META DIRECTAMENTE\n",
    "    new_date = datetime(año, mes,dia,hora,minuto)\n",
    "    print(\"Desglose de la fecha\", new_date,\":\")\n",
    "    tupla_mensajes = (\"Año\")\n",
    "    tupla_valores = datetime.isocalendar(new_date)\n",
    "    print(tupla_valores)\n",
    "    tupla_diassem = (\"Domingo\",\"Lunes\", \"Martes\", \"Miércoles\", \"Jueves\",\"Viernes\", \"Sábado\")\n",
    "    print(\"Día de semana-->\", tupla_diassem[tupla_valores[2]])\n",
    "    return año,mes,tupla_valores[2]+1,hora,minuto"
   ]
  },
  {
   "cell_type": "code",
   "execution_count": 38,
   "id": "79591af6-6bb2-45e3-90dd-c3d73a00425c",
   "metadata": {},
   "outputs": [
    {
     "name": "stdout",
     "output_type": "stream",
     "text": [
      "Desglose de la fecha 2021-10-18 12:51:00 :\n",
      "(2021, 42, 1)\n"
     ]
    },
    {
     "data": {
      "text/plain": [
       "(2021, 10, 2, 12, 51)"
      ]
     },
     "execution_count": 38,
     "metadata": {},
     "output_type": "execute_result"
    }
   ],
   "source": [
    "dia,mes,año,hora,minuto=transformacion('18/10/2021 12:51')\n",
    "fecha(año,mes,dia,hora,minuto)"
   ]
  },
  {
   "cell_type": "code",
   "execution_count": 1,
   "id": "3afa540f",
   "metadata": {},
   "outputs": [],
   "source": [
    "import pandas as pd \n",
    "import numpy as np "
   ]
  },
  {
   "cell_type": "code",
   "execution_count": 4,
   "id": "28b148f1",
   "metadata": {},
   "outputs": [],
   "source": [
    "a = [ 0,  0,  0,  0,  7, 10, 10,  6,  1]"
   ]
  },
  {
   "cell_type": "code",
   "execution_count": 5,
   "id": "30956aff",
   "metadata": {},
   "outputs": [],
   "source": [
    "arra = np.array(a)"
   ]
  },
  {
   "cell_type": "code",
   "execution_count": 7,
   "id": "ab60c9ec",
   "metadata": {},
   "outputs": [
    {
     "name": "stdout",
     "output_type": "stream",
     "text": [
      "[ 0  0  0  0  7 10 10  6  1]\n"
     ]
    }
   ],
   "source": [
    "print(arra)"
   ]
  },
  {
   "cell_type": "code",
   "execution_count": 8,
   "id": "81e4f416",
   "metadata": {},
   "outputs": [
    {
     "data": {
      "text/plain": [
       "(9,)"
      ]
     },
     "execution_count": 8,
     "metadata": {},
     "output_type": "execute_result"
    }
   ],
   "source": [
    "arra.shape"
   ]
  },
  {
   "cell_type": "code",
   "execution_count": 23,
   "id": "571bfa08",
   "metadata": {},
   "outputs": [],
   "source": [
    "arra_r = arra.reshape(1, -1)"
   ]
  },
  {
   "cell_type": "code",
   "execution_count": 24,
   "id": "81122d24",
   "metadata": {},
   "outputs": [
    {
     "data": {
      "text/plain": [
       "array([[ 0,  0,  0,  0,  7, 10, 10,  6,  1]])"
      ]
     },
     "execution_count": 24,
     "metadata": {},
     "output_type": "execute_result"
    }
   ],
   "source": [
    "arra_r"
   ]
  },
  {
   "cell_type": "code",
   "execution_count": 13,
   "id": "12c4cf35",
   "metadata": {},
   "outputs": [],
   "source": [
    "   columns_df = ['Scholarship', 'Hipertension', 'Alcoholism', 'SMS_received',\n",
    "            'WaitingDays', 'Appointment_month', 'ScheduledDay_month',\n",
    "            'ScheduledDay_Hour', 'Gender_index']"
   ]
  },
  {
   "cell_type": "code",
   "execution_count": 25,
   "id": "f19b9c1e",
   "metadata": {},
   "outputs": [
    {
     "data": {
      "text/html": [
       "<div>\n",
       "<style scoped>\n",
       "    .dataframe tbody tr th:only-of-type {\n",
       "        vertical-align: middle;\n",
       "    }\n",
       "\n",
       "    .dataframe tbody tr th {\n",
       "        vertical-align: top;\n",
       "    }\n",
       "\n",
       "    .dataframe thead th {\n",
       "        text-align: right;\n",
       "    }\n",
       "</style>\n",
       "<table border=\"1\" class=\"dataframe\">\n",
       "  <thead>\n",
       "    <tr style=\"text-align: right;\">\n",
       "      <th></th>\n",
       "      <th>Scholarship</th>\n",
       "      <th>Hipertension</th>\n",
       "      <th>Alcoholism</th>\n",
       "      <th>SMS_received</th>\n",
       "      <th>WaitingDays</th>\n",
       "      <th>Appointment_month</th>\n",
       "      <th>ScheduledDay_month</th>\n",
       "      <th>ScheduledDay_Hour</th>\n",
       "      <th>Gender_index</th>\n",
       "    </tr>\n",
       "  </thead>\n",
       "  <tbody>\n",
       "    <tr>\n",
       "      <th>0</th>\n",
       "      <td>0</td>\n",
       "      <td>0</td>\n",
       "      <td>0</td>\n",
       "      <td>0</td>\n",
       "      <td>7</td>\n",
       "      <td>10</td>\n",
       "      <td>10</td>\n",
       "      <td>6</td>\n",
       "      <td>1</td>\n",
       "    </tr>\n",
       "  </tbody>\n",
       "</table>\n",
       "</div>"
      ],
      "text/plain": [
       "   Scholarship  Hipertension  Alcoholism  SMS_received  WaitingDays  \\\n",
       "0            0             0           0             0            7   \n",
       "\n",
       "   Appointment_month  ScheduledDay_month  ScheduledDay_Hour  Gender_index  \n",
       "0                 10                  10                  6             1  "
      ]
     },
     "execution_count": 25,
     "metadata": {},
     "output_type": "execute_result"
    }
   ],
   "source": [
    "x_predict = pd.DataFrame(arra_r,columns = columns_df )\n",
    "x_predict"
   ]
  }
 ],
 "metadata": {
  "kernelspec": {
   "display_name": "Python 3",
   "language": "python",
   "name": "python3"
  },
  "language_info": {
   "codemirror_mode": {
    "name": "ipython",
    "version": 3
   },
   "file_extension": ".py",
   "mimetype": "text/x-python",
   "name": "python",
   "nbconvert_exporter": "python",
   "pygments_lexer": "ipython3",
   "version": "3.8.8"
  }
 },
 "nbformat": 4,
 "nbformat_minor": 5
}
